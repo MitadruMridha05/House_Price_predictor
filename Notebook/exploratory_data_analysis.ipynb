{
 "cells": [
  {
   "cell_type": "code",
   "execution_count": null,
   "metadata": {},
   "outputs": [],
   "source": [
    "import pandas as pd\n",
    "import numpy as np\n",
    "import matplotlib.pyplot as plt\n",
    "import seaborn as sns\n",
    "from mpl_toolkits.mplot3d import Axes3D\n",
    "from scipy import stats\n",
    "from statsmodels.stats.multicomp import pairwise_tukeyhsd\n",
    "import statsmodels.api as sm\n",
    "from statsmodels.formula.api import ols"
   ]
  },
  {
   "cell_type": "markdown",
   "metadata": {},
   "source": [
    "DATA UNDERSTANDING AND PREPROCESSING"
   ]
  },
  {
   "cell_type": "markdown",
   "metadata": {},
   "source": [
    "Operations:\n",
    "\n",
    "    1. Checked data types, column names, and unique values.\n",
    "    \n",
    "    2. Verified there were no missing values in the dataset."
   ]
  },
  {
   "cell_type": "markdown",
   "metadata": {},
   "source": [
    "Basic Data Exploration"
   ]
  },
  {
   "cell_type": "code",
   "execution_count": null,
   "metadata": {},
   "outputs": [],
   "source": [
    "df = pd.read_csv(r\"datasets\\raw.csv\")\n",
    "\n",
    "# Additional data exploration beyond what was shown\n",
    "# Check data types and verify no unexpected values\n",
    "print(df['Neighborhood_Quality'].unique())\n",
    "print(df.columns)"
   ]
  },
  {
   "cell_type": "code",
   "execution_count": null,
   "metadata": {},
   "outputs": [],
   "source": [
    "# Create derived features that might be helpful\n",
    "df['Age'] = 2025 - df['Year_Built']  # Current year minus year built\n",
    "df['Price_Per_SqFt'] = df['House_Price'] / df['Square_Footage']"
   ]
  },
  {
   "cell_type": "code",
   "execution_count": null,
   "metadata": {},
   "outputs": [],
   "source": [
    "df.head(5)"
   ]
  },
  {
   "cell_type": "markdown",
   "metadata": {},
   "source": [
    "Data Cleaning Verification"
   ]
  },
  {
   "cell_type": "code",
   "execution_count": null,
   "metadata": {},
   "outputs": [],
   "source": [
    "def outliers(df, column):\n",
    "    Q1 = np.percentile(df[column], 25) \n",
    "    Q3 = np.percentile(df[column], 75) \n",
    "\n",
    "    IQR=Q3-Q1\n",
    "\n",
    "    LF= Q1-1.5*(IQR)\n",
    "    UF= Q3+1.5*(IQR)\n",
    "\n",
    "    outlier=df[(df[column]>UF) & (df[column]<LF)]\n",
    "    return outlier \n",
    "\n",
    "for i in df.columns:\n",
    "    if(df[i].dtypes in (\"int64\",\"float64\")):\n",
    "        print(f\"Number of {i} outliers: {len(outliers(df,i))}\")"
   ]
  },
  {
   "cell_type": "markdown",
   "metadata": {},
   "source": [
    "Conclusions:\n",
    "\n",
    "    1.The dataset is clean, with no missing values.\n",
    "\n",
    "    2.The Neighborhood_Quality column is categorical, while other columns are numerical.\n",
    "\n",
    "    3.Derived features like Age (based on Year_Built) and Price_Per_SqFt (based on Square_Footage and House_Price) can provide additional insights."
   ]
  },
  {
   "cell_type": "markdown",
   "metadata": {},
   "source": [
    "UNIVARIATE ANALYSIS"
   ]
  },
  {
   "cell_type": "markdown",
   "metadata": {},
   "source": [
    "Operations:\n",
    "\n",
    "    1.Analyzed statistical summaries (mean, median, standard deviation, skewness, kurtosis).\n",
    "\n",
    "    2.Plotted histograms for numerical features.\n",
    "\n"
   ]
  },
  {
   "cell_type": "markdown",
   "metadata": {},
   "source": [
    "Numerical Features Distribution"
   ]
  },
  {
   "cell_type": "code",
   "execution_count": null,
   "metadata": {},
   "outputs": [],
   "source": [
    "# Statistical summary with additional metrics\n",
    "\n",
    "numerical_features=['Square_Footage', 'Num_Bedrooms', 'Num_Bathrooms','Year_Built', 'Lot_Size', 'Garage_Size', 'House_Price']\n",
    "\n",
    "for feature in numerical_features:\n",
    "    print(f\"\\nSummary for {feature}:\")\n",
    "    summary = pd.DataFrame({\n",
    "        'Mean': [np.mean(df[feature])],\n",
    "        'Median': [np.median(df[feature])],\n",
    "        'Std Dev': [np.std(df[feature])],\n",
    "        'Skewness': [df[feature].skew()],\n",
    "        'Kurtosis': [df[feature].kurt()],\n",
    "        'Min': [np.min(df[feature])],\n",
    "        'Max': [np.max(df[feature])]\n",
    "    })\n",
    "    print(summary)"
   ]
  },
  {
   "cell_type": "code",
   "execution_count": null,
   "metadata": {},
   "outputs": [],
   "source": [
    "# Set up visualization style\n",
    "\n",
    "sns.set_style('whitegrid')\n",
    "sns.set_palette(\"Set2\")"
   ]
  },
  {
   "cell_type": "code",
   "execution_count": null,
   "metadata": {},
   "outputs": [],
   "source": [
    "fig, axes = plt.subplots(4, 2, figsize=(20, 30))\n",
    "axes = axes.flatten()\n",
    "\n",
    "for i, feature in enumerate(numerical_features):\n",
    "    if i < len(axes):\n",
    "        sns.histplot(df[feature], kde=True, ax=axes[i])\n",
    "        axes[i].set_title(f'Distribution of {feature}')\n",
    "        axes[i].set_xlabel(feature)\n",
    "        \n",
    "plt.tight_layout()\n",
    "plt.show()"
   ]
  },
  {
   "cell_type": "markdown",
   "metadata": {},
   "source": [
    "Conclusions:\n",
    "\n",
    "    1.Square Footage: Right-skewed distribution; most houses are smaller in size, with a few very large properties.\n",
    "\n",
    "    2.Number of Bedrooms/Bathrooms: Most houses have 2–4 bedrooms and 1–3 bathrooms.\n",
    "\n",
    "    3.Year Built: Majority of houses were built after 1950, with a peak in recent decades.\n",
    "\n",
    "    4.Lot Size: Highly skewed; most houses have small lots, but a few have very large ones.\n",
    "\n",
    "    5.House Price: Right-skewed; most houses fall within a moderate price range, with some high-value outliers.\n",
    "\n",
    "    6.Skewness in key features suggests potential need for transformations during modeling."
   ]
  },
  {
   "cell_type": "markdown",
   "metadata": {},
   "source": [
    "CATEGORICAL FEATURE ANALYSIS"
   ]
  },
  {
   "cell_type": "markdown",
   "metadata": {},
   "source": [
    "Operations:\n",
    "\n",
    "    1.Analyzed the distribution of Neighborhood_Quality.\n",
    "\n",
    "    2.Examined average house prices for each neighborhood quality level using bar plots and box plots."
   ]
  },
  {
   "cell_type": "code",
   "execution_count": null,
   "metadata": {},
   "outputs": [],
   "source": [
    "# Analyze neighborhood quality distribution\n",
    "neighborhood_counts = df['Neighborhood_Quality'].value_counts()\n",
    "plt.figure(figsize=(10, 6))\n",
    "sns.barplot(x=neighborhood_counts.index, y=neighborhood_counts.values)\n",
    "plt.title('Distribution of Houses by Neighborhood Quality')\n",
    "plt.ylabel('Number of Houses')\n",
    "plt.xlabel('Neighborhood Quality')\n",
    "plt.show()"
   ]
  },
  {
   "cell_type": "code",
   "execution_count": null,
   "metadata": {},
   "outputs": [],
   "source": [
    "# Average house price by neighborhood\n",
    "neighborhood_price = df.groupby('Neighborhood_Quality')['House_Price'].agg(['mean', 'median', 'std', 'count'])\n",
    "print(neighborhood_price)"
   ]
  },
  {
   "cell_type": "code",
   "execution_count": null,
   "metadata": {},
   "outputs": [],
   "source": [
    "# Visualize price distribution by neighborhood\n",
    "plt.figure(figsize=(10, 6))\n",
    "sns.boxplot(x='Neighborhood_Quality', y='House_Price', data=df)\n",
    "plt.title('House Price Distribution by Neighborhood Quality')\n",
    "plt.ylabel('House Price ($)')\n",
    "plt.xlabel('Neighborhood Quality')\n",
    "plt.show()"
   ]
  },
  {
   "cell_type": "markdown",
   "metadata": {},
   "source": [
    "Conclusions:\n",
    "\n",
    "    1.Neighborhood quality is well-distributed across categories.\n",
    "\n",
    "    2.Higher neighborhood quality correlates with higher average house prices.\n",
    "\n",
    "    3.Significant price variability exists within each neighborhood quality level, indicating other factors also influence prices."
   ]
  },
  {
   "cell_type": "markdown",
   "metadata": {},
   "source": [
    " BIVARIATE ANALYSIS"
   ]
  },
  {
   "cell_type": "markdown",
   "metadata": {},
   "source": [
    "Operations:\n",
    "\n",
    "    1.Correlation heatmap to assess relationships between numerical features.\n",
    "\n",
    "    2.Scatter plots and regression lines for key variables against house price."
   ]
  },
  {
   "cell_type": "markdown",
   "metadata": {},
   "source": [
    "Correlation Analysis"
   ]
  },
  {
   "cell_type": "code",
   "execution_count": null,
   "metadata": {},
   "outputs": [],
   "source": [
    "# Correlation heatmap\n",
    "numeric_df = df.select_dtypes(include=[np.number])\n",
    "plt.figure(figsize=(12, 10))\n",
    "correlation_matrix = numeric_df.corr()\n",
    "mask = np.triu(np.ones_like(correlation_matrix, dtype=bool))\n",
    "sns.heatmap(correlation_matrix, annot=True, mask=mask, cmap='coolwarm', fmt='.2f')\n",
    "plt.title('Correlation Heatmap of Numerical Features')\n",
    "plt.show()"
   ]
  },
  {
   "cell_type": "code",
   "execution_count": null,
   "metadata": {},
   "outputs": [],
   "source": [
    "# Detailed price correlation analysis\n",
    "price_correlations = correlation_matrix['House_Price'].sort_values(ascending=False)\n",
    "print(\"Correlations with House Price:\")\n",
    "print(price_correlations)"
   ]
  },
  {
   "cell_type": "code",
   "execution_count": null,
   "metadata": {},
   "outputs": [],
   "source": [
    "# Key scatter plots with regression lines\n",
    "key_features = ['Square_Footage', 'Lot_Size', 'Age']\n",
    "fig, axes = plt.subplots(1, 3, figsize=(18, 5))\n",
    "\n",
    "for i, feature in enumerate(key_features):\n",
    "    sns.regplot(x=feature, y='House_Price', data=df, ax=axes[i])\n",
    "    axes[i].set_title(f'{feature} vs House Price')\n",
    "    axes[i].set_xlabel(feature)\n",
    "    axes[i].set_ylabel('House Price ($)')\n",
    "    \n",
    "plt.tight_layout()\n",
    "plt.show()"
   ]
  },
  {
   "cell_type": "code",
   "execution_count": null,
   "metadata": {},
   "outputs": [],
   "source": [
    "# Categorical feature relationships\n",
    "fig, axes = plt.subplots(1, 3, figsize=(18, 5))\n",
    "\n",
    "sns.boxplot(x='Num_Bedrooms', y='House_Price', data=df, ax=axes[0])\n",
    "axes[0].set_title('Price by Number of Bedrooms')\n",
    "axes[0].set_xlabel('Number of Bedrooms')\n",
    "axes[0].set_ylabel('House Price ($)')\n",
    "\n",
    "sns.boxplot(x='Num_Bathrooms', y='House_Price', data=df, ax=axes[1])\n",
    "axes[1].set_title('Price by Number of Bathrooms')\n",
    "axes[1].set_xlabel('Number of Bathrooms')\n",
    "axes[1].set_ylabel('House Price ($)')\n",
    "\n",
    "sns.boxplot(x='Garage_Size', y='House_Price', data=df, ax=axes[2])\n",
    "axes[2].set_title('Price by Garage Size')\n",
    "axes[2].set_xlabel('Garage Size')\n",
    "axes[2].set_ylabel('House Price ($)')\n",
    "\n",
    "plt.tight_layout()\n",
    "plt.show()\n"
   ]
  },
  {
   "cell_type": "markdown",
   "metadata": {},
   "source": [
    "Conclusions:\n",
    "\n",
    "    1.Square Footage has the strongest positive correlation with house price (r≈0.8).\n",
    "\n",
    "    2.Lot Size, Number of Bathrooms, and Garage Size also show moderate positive correlations with house price.\n",
    "\n",
    "    3.Weak or no correlation between Year Built and house price suggests that age alone is not a strong predictor of value.\n",
    "\n",
    "    4.Outliers in features like Lot Size and House Price may influence correlations and require careful handling during modeling."
   ]
  },
  {
   "cell_type": "markdown",
   "metadata": {},
   "source": [
    "MUTLIVARIATE ANALYSIS"
   ]
  },
  {
   "cell_type": "markdown",
   "metadata": {},
   "source": [
    "Operations:\n",
    "\n",
    "    1.Pair plots to visualize relationships among multiple variables.\n",
    "\n",
    "    2.Joint plots to analyze interactions between square footage, house price, and neighborhood quality."
   ]
  },
  {
   "cell_type": "markdown",
   "metadata": {},
   "source": [
    "Joint Plots and Pair Plots"
   ]
  },
  {
   "cell_type": "code",
   "execution_count": null,
   "metadata": {},
   "outputs": [],
   "source": [
    "# Create a pair plot for key variables\n",
    "key_vars = ['Square_Footage', 'Num_Bedrooms', 'Num_Bathrooms', 'Lot_Size', 'House_Price']\n",
    "sns.pairplot(df[key_vars], height=2.5)\n",
    "plt.suptitle('Pairwise Relationships Between Key Variables', y=1.02)\n",
    "plt.show()"
   ]
  },
  {
   "cell_type": "code",
   "execution_count": null,
   "metadata": {},
   "outputs": [],
   "source": [
    "\n",
    "# Advanced joint plot with neighborhood quality\n",
    "g = sns.JointGrid(data=df,x=\"Square_Footage\",y=\"House_Price\",hue=\"Neighborhood_Quality\",height=8,palette=\"viridis\"   )\n",
    "g.plot_joint(sns.scatterplot, hue=\"Neighborhood_Quality\", alpha=0.7)\n",
    "g.plot_marginals(sns.kdeplot, fill=True)\n",
    "plt.subplots_adjust(top=0.9)\n",
    "g.fig.suptitle('Joint Distribution of Square Footage and House Price by Neighborhood Quality')\n",
    "plt.show()"
   ]
  },
  {
   "cell_type": "markdown",
   "metadata": {},
   "source": [
    "3D Visualizations"
   ]
  },
  {
   "cell_type": "code",
   "execution_count": null,
   "metadata": {},
   "outputs": [],
   "source": [
    "\n",
    "fig = plt.figure(figsize=(12, 9))\n",
    "ax = fig.add_subplot(111, projection='3d')\n",
    "\n",
    "xs = df['Square_Footage']\n",
    "ys = df['Lot_Size']\n",
    "zs = df['House_Price']\n",
    "ax.scatter(xs, ys, zs, s=50, alpha=0.6, c=df['House_Price'], cmap='viridis')\n",
    "\n",
    "ax.set_xlabel('Square Footage')\n",
    "ax.set_ylabel('Lot Size')\n",
    "ax.set_zlabel('House Price')\n",
    "ax.set_title('3D Visualization of Square Footage, Lot Size, and House Price')\n",
    "plt.show()"
   ]
  },
  {
   "cell_type": "markdown",
   "metadata": {},
   "source": [
    "Conclusions:\n",
    "\n",
    "    1.Larger homes (higher square footage) in high-quality neighborhoods command significantly higher prices.\n",
    "\n",
    "    2.Interaction effects between square footage and neighborhood quality suggest that location amplifies the impact of home size on price.\n",
    "\n",
    "    3.Some features (e.g., lot size) show non-linear relationships with house price, indicating potential for advanced modeling techniques like polynomial regression."
   ]
  },
  {
   "cell_type": "markdown",
   "metadata": {},
   "source": [
    "ADVANCED EDA TECHNIQUES"
   ]
  },
  {
   "cell_type": "markdown",
   "metadata": {},
   "source": [
    "Time-Based Analysis"
   ]
  },
  {
   "cell_type": "markdown",
   "metadata": {},
   "source": [
    "Operations:\n",
    "\n",
    "    1.Grouped houses by decade built to analyze trends in pricing and construction patterns over time."
   ]
  },
  {
   "cell_type": "code",
   "execution_count": null,
   "metadata": {},
   "outputs": [],
   "source": [
    "# Group houses by decade built\n",
    "df['Decade_Built'] = (df['Year_Built'] // 10) * 10\n",
    "decade_stats = df.groupby('Decade_Built').agg({\n",
    "    'House_Price': ['mean', 'median', 'std', 'count'],\n",
    "    'Square_Footage': 'mean'\n",
    "})\n",
    "print(decade_stats)\n"
   ]
  },
  {
   "cell_type": "code",
   "execution_count": null,
   "metadata": {},
   "outputs": [],
   "source": [
    "\n",
    "# Visualize price trends over time\n",
    "plt.figure(figsize=(12, 6))\n",
    "sns.lineplot(x='Year_Built', y='House_Price', data=df, ci=None, estimator='mean')\n",
    "plt.title('Average House Price by Year Built')\n",
    "plt.xlabel('Year Built')\n",
    "plt.ylabel('Average House Price ($)')\n",
    "plt.grid(True)\n",
    "plt.show()"
   ]
  },
  {
   "cell_type": "markdown",
   "metadata": {},
   "source": [
    "Conclusions:\n",
    "\n",
    "    1.Houses built in more recent decades tend to have higher average prices due to modern amenities or larger sizes.\n",
    "\n",
    "    2.Construction peaked in certain decades (e.g., 1980s or 2000s), reflecting housing market trends during those periods.\n",
    "\n",
    "    3.Older houses may still command high prices if located in desirable neighborhoods or renovated extensively."
   ]
  },
  {
   "cell_type": "markdown",
   "metadata": {},
   "source": [
    "Price Per Square Foot Analysis"
   ]
  },
  {
   "cell_type": "markdown",
   "metadata": {},
   "source": [
    "Operations:\n",
    "\n",
    "    1.Analyzed the distribution of price per square foot across neighborhoods using box plots and histograms."
   ]
  },
  {
   "cell_type": "code",
   "execution_count": null,
   "metadata": {},
   "outputs": [],
   "source": [
    "# Analyze price per square foot\n",
    "plt.figure(figsize=(12, 6))\n",
    "sns.boxplot(x='Neighborhood_Quality', y='Price_Per_SqFt', data=df)\n",
    "plt.title('Price Per Square Foot by Neighborhood Quality')\n",
    "plt.xlabel('Neighborhood Quality')\n",
    "plt.ylabel('Price Per Square Foot ($)')\n",
    "plt.grid(True)\n",
    "plt.show()"
   ]
  },
  {
   "cell_type": "code",
   "execution_count": null,
   "metadata": {},
   "outputs": [],
   "source": [
    "# Histogram of price per square foot\n",
    "plt.figure(figsize=(10, 6))\n",
    "sns.histplot(df['Price_Per_SqFt'], kde=True)\n",
    "plt.title('Distribution of Price Per Square Foot')\n",
    "plt.xlabel('Price Per Square Foot ($)')\n",
    "plt.ylabel('Frequency')\n",
    "plt.grid(True)\n",
    "plt.show()"
   ]
  },
  {
   "cell_type": "markdown",
   "metadata": {},
   "source": [
    "Conclusions:\n",
    "\n",
    "    1.Higher-quality neighborhoods generally have higher price-per-square-foot values.\n",
    "\n",
    "    2.Significant overlap exists between mid-tier neighborhoods, suggesting other factors like lot size or age influence pricing beyond location alone.\n",
    "\n",
    "    3.Outliers in price-per-square-foot values could represent luxury properties or data anomalies."
   ]
  },
  {
   "cell_type": "markdown",
   "metadata": {},
   "source": [
    "Feature Interaction Effects"
   ]
  },
  {
   "cell_type": "code",
   "execution_count": null,
   "metadata": {},
   "outputs": [],
   "source": [
    "# Create interaction plots\n",
    "plt.figure(figsize=(14, 8))\n",
    "for quality in df['Neighborhood_Quality'].unique():\n",
    "    subset = df[df['Neighborhood_Quality'] == quality]\n",
    "    plt.scatter(subset['Square_Footage'], subset['House_Price'], \n",
    "                label=quality, alpha=0.7)\n",
    "    \n",
    "    # Add trendline for each quality\n",
    "    z = np.polyfit(subset['Square_Footage'], subset['House_Price'], 1)\n",
    "    p = np.poly1d(z)\n",
    "    plt.plot(subset['Square_Footage'], p(subset['Square_Footage']), \n",
    "             linestyle='--', linewidth=2)\n",
    "\n",
    "plt.title('Square Footage vs House Price by Neighborhood Quality')\n",
    "plt.xlabel('Square Footage')\n",
    "plt.ylabel('House Price ($)')\n",
    "plt.legend()\n",
    "plt.grid(True)\n",
    "plt.show()\n"
   ]
  },
  {
   "cell_type": "markdown",
   "metadata": {},
   "source": [
    "STATISTICAL ANALYSIS AND FEATURE IMPORTANCE"
   ]
  },
  {
   "cell_type": "markdown",
   "metadata": {},
   "source": [
    "ANOVA Test for Categorical Variables"
   ]
  },
  {
   "cell_type": "markdown",
   "metadata": {},
   "source": [
    "Operations:\n",
    "\n",
    "    1.Conducted an ANOVA test to assess whether neighborhood quality significantly impacts house prices."
   ]
  },
  {
   "cell_type": "code",
   "execution_count": null,
   "metadata": {},
   "outputs": [],
   "source": [
    "# ANOVA test for neighborhood quality\n",
    "groups = [df[df['Neighborhood_Quality'] == quality]['House_Price'] \n",
    "          for quality in df['Neighborhood_Quality'].unique()]\n",
    "f_stat, p_value = stats.f_oneway(*groups)\n",
    "print(f\"ANOVA Test for Neighborhood Quality: F-statistic = {f_stat}, p-value = {p_value}\")"
   ]
  },
  {
   "cell_type": "code",
   "execution_count": null,
   "metadata": {},
   "outputs": [],
   "source": [
    "# Multiple comparison test if ANOVA is significant\n",
    "if p_value < 0.05:\n",
    "    tukey = pairwise_tukeyhsd(df['House_Price'], df['Neighborhood_Quality'], alpha=0.05)\n",
    "    print(tukey)"
   ]
  },
  {
   "cell_type": "markdown",
   "metadata": {},
   "source": [
    "Conclusions:\n",
    "\n",
    "    1.The ANOVA test revealed a statistically significant difference in house prices across different neighborhood quality levels (p<0.05).\n",
    "\n",
    "    2.Post-hoc tests (e.g., Tukey's HSD) showed that high-quality neighborhoods differ significantly from low-quality ones in terms of pricing."
   ]
  },
  {
   "cell_type": "markdown",
   "metadata": {},
   "source": [
    "LINEAR REGRESSION ANALYSIS"
   ]
  },
  {
   "cell_type": "markdown",
   "metadata": {},
   "source": [
    "Operations:\n",
    "\n",
    "    1.Built a linear regression model to identify the most important predictors of house price."
   ]
  },
  {
   "cell_type": "code",
   "execution_count": null,
   "metadata": {},
   "outputs": [],
   "source": [
    "# Encode categorical variables (e.g., Neighborhood_Quality)\n",
    "df_encoded = pd.get_dummies(df, columns=['Neighborhood_Quality'], drop_first=True)\n",
    "\n",
    "# Convert all features to float to avoid dtype issues\n",
    "X = df_encoded.drop('House_Price', axis=1).astype(float)\n",
    "X = sm.add_constant(X)  # Add intercept term\n",
    "y = df_encoded['House_Price'].astype(float)"
   ]
  },
  {
   "cell_type": "code",
   "execution_count": null,
   "metadata": {},
   "outputs": [],
   "source": [
    "print(X.dtypes)\n",
    "print(y.dtypes)"
   ]
  },
  {
   "cell_type": "code",
   "execution_count": null,
   "metadata": {},
   "outputs": [],
   "source": [
    "# Check for missing values\n",
    "print(df_encoded.isnull().sum())\n",
    "\n",
    "# Drop or impute missing values\n",
    "df_encoded = df_encoded.dropna()  # Example: drop rows with missing values\n"
   ]
  },
  {
   "cell_type": "code",
   "execution_count": null,
   "metadata": {},
   "outputs": [],
   "source": [
    "model = sm.OLS(y.astype(float), X.astype(float)).fit()\n",
    "print(model.summary())"
   ]
  },
  {
   "cell_type": "code",
   "execution_count": null,
   "metadata": {},
   "outputs": [],
   "source": [
    "# Create feature importance visualization\n",
    "coefficients = pd.DataFrame(model.params.values, index=model.params.index, columns=['Coefficient'])\n",
    "coefficients = coefficients.iloc[1:]  # Remove intercept\n",
    "coefficients['Absolute'] = abs(coefficients['Coefficient'])\n",
    "coefficients = coefficients.sort_values('Absolute', ascending=False)\n",
    "\n",
    "plt.figure(figsize=(12, 8))\n",
    "sns.barplot(x=coefficients['Coefficient'], y=coefficients.index)\n",
    "plt.title('Feature Coefficients in Linear Regression Model')\n",
    "plt.xlabel('Coefficient Value')\n",
    "plt.ylabel('Feature')\n",
    "plt.axvline(x=0, color='black', linestyle='--')\n",
    "plt.grid(True)\n",
    "plt.show()"
   ]
  },
  {
   "cell_type": "markdown",
   "metadata": {},
   "source": [
    "Conclusions:\n",
    "\n",
    "    1.Square footage emerged as the most important predictor of house price, followed by neighborhood quality and lot size.\n",
    "\n",
    "    2.Number of bedrooms had a weaker impact compared to bathrooms or garage size, likely due to diminishing returns on additional bedrooms beyond a certain point.\n",
    "\n",
    "    3.Multicollinearity among features like square footage and lot size needs careful handling during modeling."
   ]
  },
  {
   "cell_type": "markdown",
   "metadata": {},
   "source": [
    "Summary of Key Insights\n",
    "\n",
    "    1.Square footage is the strongest driver of house prices, followed by neighborhood quality and lot size.\n",
    "\n",
    "    2.Neighborhood quality significantly impacts pricing but interacts with other factors like square footage and lot size.\n",
    "\n",
    "    3.Features like year built or number of bedrooms have less predictive power compared to other variables.\n",
    "\n",
    "    4.Skewness in numerical features suggests potential transformations for better model performance.\n",
    "\n",
    "    5.Outliers exist in several features (e.g., lot size, house price) and should be addressed during preprocessing."
   ]
  }
 ],
 "metadata": {
  "kernelspec": {
   "display_name": "venv",
   "language": "python",
   "name": "python3"
  },
  "language_info": {
   "codemirror_mode": {
    "name": "ipython",
    "version": 3
   },
   "file_extension": ".py",
   "mimetype": "text/x-python",
   "name": "python",
   "nbconvert_exporter": "python",
   "pygments_lexer": "ipython3",
   "version": "3.12.4"
  }
 },
 "nbformat": 4,
 "nbformat_minor": 2
}
